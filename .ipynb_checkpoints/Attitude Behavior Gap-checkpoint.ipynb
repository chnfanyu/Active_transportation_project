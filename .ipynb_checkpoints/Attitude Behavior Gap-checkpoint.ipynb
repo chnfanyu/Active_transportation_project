{
 "cells": [
  {
   "cell_type": "code",
   "execution_count": 25,
   "id": "30a53d5d",
   "metadata": {},
   "outputs": [],
   "source": [
    "library(tidyverse)\n",
    "library(magrittr)\n",
    "library(dplyr)\n",
    "library(ggplot2)"
   ]
  },
  {
   "cell_type": "code",
   "execution_count": 26,
   "id": "6a4b0983",
   "metadata": {},
   "outputs": [
    {
     "name": "stderr",
     "output_type": "stream",
     "text": [
      "Warning message in scan(file = file, what = what, sep = sep, quote = quote, dec = dec, :\n",
      "\"invalid input found on input connection './New folder/covidfuture_wave_3_public_Main_3.0.0b6.csv'\""
     ]
    }
   ],
   "source": [
    "wave1 <- read.csv(\"./New folder/covid_pooled_public_w1b_1.1.0b7.csv\", fileEncoding = 'UTF-8-BOM') # wave 1\n",
    "wave2 <- read.csv(\"./New folder/covidfuture_wave_2_public_Main_2.0.0b6.csv\", fileEncoding = 'UTF-8-BOM') # wave 2\n",
    "wave3 <- read.csv(\"./New folder/covidfuture_wave_3_public_Main_3.0.0b6.csv\", fileEncoding = 'UTF-8-BOM') # wave 3"
   ]
  },
  {
   "cell_type": "code",
   "execution_count": 27,
   "id": "944efd1f",
   "metadata": {},
   "outputs": [],
   "source": [
    "two_wave <- list(wave1, wave3)      \n",
    "two_wave %<>% reduce(inner_join, by='resp_id')\n",
    "\n",
    "three_wave <- list(wave1, wave2, wave3)      \n",
    "three_wave %<>% reduce(inner_join, by='resp_id')\n",
    "\n",
    "two_wave[two_wave == \"Question not displayed to respondent\"] <- NA\n",
    "two_wave[two_wave == \"Variable not available in datasource\"] <- NA\n",
    "two_wave[two_wave == \"Seen but unanswered\"] <- NA\n",
    "two_wave[two_wave == \"Not selected\"] <- NA\n",
    "two_wave[two_wave == \"Nonmetropolitan\"] <- NA\n",
    "\n",
    "three_wave[three_wave == \"Question not displayed to respondent\"] <- NA\n",
    "three_wave[three_wave == \"Variable not available in datasource\"] <- NA\n",
    "three_wave[three_wave == \"Seen but unanswered\"] <- NA\n",
    "three_wave[three_wave == \"Not selected\"] <- NA\n",
    "three_wave[three_wave == \"Nonmetropolitan\"] <- NA"
   ]
  },
  {
   "cell_type": "code",
   "execution_count": 28,
   "id": "bf1ec51b",
   "metadata": {},
   "outputs": [],
   "source": [
    "Compare = c('Much less than before', 'Somewhat less than before', 'About the same', 'Somewhat more than before', 'Much more than before')\n",
    "\n",
    "##  attitudes and commitment to change \n",
    "\n",
    "# bike attitudes match frequency \n",
    "bike_attitudes <- two_wave %>%\n",
    "    transmute(resp_id, tr_freq_exp_bikepers, freq_change =w3_tr_freq_now_8 - tr_freq_now_bikepers) %>%\n",
    "    mutate(freq_change = as.numeric(freq_change))\n",
    "bike_attitudes <- na.omit(bike_attitudes)\n",
    "bike_attitudes$freq_change[bike_attitudes$freq_change < -3] <- -99\n",
    "bike_attitudes$freq_change[bike_attitudes$freq_change >= -3 & bike_attitudes$freq_change < 0] <- -2 \n",
    "bike_attitudes$freq_change[bike_attitudes$freq_change == 0] <- 0\n",
    "bike_attitudes$freq_change[bike_attitudes$freq_change > 0 & bike_attitudes$freq_change <= 3] <- 2\n",
    "bike_attitudes$freq_change[bike_attitudes$freq_change > 3] <- 99\n",
    "bike_attitudes %<>%\n",
    "    mutate(freq_change = factor(freq_change, order=TRUE, labels = Compare))%>%\n",
    "    rename(bike_expect = tr_freq_exp_bikepers)%>%\n",
    "    rename(bike_freq = freq_change)\n",
    "\n",
    "# car attitudes match frequency \n",
    "car_attitudes <- two_wave %>%\n",
    "    transmute(resp_id, tr_freq_exp_privateveh, freq_change =w3_tr_freq_now_7 - tr_freq_now_privateveh) %>%\n",
    "    mutate(freq_change = as.numeric(freq_change))\n",
    "car_attitudes <- na.omit(car_attitudes)\n",
    "car_attitudes$freq_change[car_attitudes$freq_change < -3] <- -99\n",
    "car_attitudes$freq_change[car_attitudes$freq_change >= -3 & car_attitudes$freq_change < 0] <- -2 \n",
    "car_attitudes$freq_change[car_attitudes$freq_change == 0] <- 0\n",
    "car_attitudes$freq_change[car_attitudes$freq_change > 0 & car_attitudes$freq_change <= 3] <- 2\n",
    "car_attitudes$freq_change[car_attitudes$freq_change > 3] <- 99\n",
    "car_attitudes %<>%\n",
    "    mutate(freq_change = factor(freq_change, order=TRUE, labels = Compare))%>%\n",
    "    rename(car_expect = tr_freq_exp_privateveh)%>%\n",
    "    rename(car_freq = freq_change)\n",
    "\n",
    "# transit attitudes match frequency \n",
    "transit_attitudes <- two_wave %>%\n",
    "    transmute(resp_id, tr_freq_exp_transit, freq_change =w3_tr_freq_now_4 - tr_freq_now_transit) %>%\n",
    "    mutate(freq_change = as.numeric(freq_change))\n",
    "transit_attitudes <- na.omit(transit_attitudes)\n",
    "transit_attitudes$freq_change[transit_attitudes$freq_change < -3] <- -99\n",
    "transit_attitudes$freq_change[transit_attitudes$freq_change >= -3 & transit_attitudes$freq_change < 0] <- -2 \n",
    "transit_attitudes$freq_change[transit_attitudes$freq_change == 0] <- 0\n",
    "transit_attitudes$freq_change[transit_attitudes$freq_change > 0 & transit_attitudes$freq_change <= 3] <- 2\n",
    "transit_attitudes$freq_change[transit_attitudes$freq_change > 3] <- 99\n",
    "transit_attitudes %<>%\n",
    "    mutate(freq_change = factor(freq_change, order=TRUE, labels = Compare))%>%\n",
    "    rename(transit_expect = tr_freq_exp_transit)%>%\n",
    "    rename(transit_freq = freq_change)\n",
    "\n",
    "# ridehail attitudes match frequency \n",
    "ridehail_attitudes <- two_wave %>%\n",
    "    transmute(resp_id, tr_freq_exp_ridehail, freq_change =w3_tr_freq_now_3 - tr_freq_now_ridehail) %>%\n",
    "    mutate(freq_change = as.numeric(freq_change))\n",
    "ridehail_attitudes <- na.omit(ridehail_attitudes)\n",
    "ridehail_attitudes$freq_change[ridehail_attitudes$freq_change < -3] <- -99\n",
    "ridehail_attitudes$freq_change[ridehail_attitudes$freq_change >= -3 & ridehail_attitudes$freq_change < 0] <- -2 \n",
    "ridehail_attitudes$freq_change[ridehail_attitudes$freq_change == 0] <- 0\n",
    "ridehail_attitudes$freq_change[ridehail_attitudes$freq_change > 0 & ridehail_attitudes$freq_change <= 3] <- 2\n",
    "ridehail_attitudes$freq_change[ridehail_attitudes$freq_change > 3] <- 99\n",
    "ridehail_attitudes %<>%\n",
    "    mutate(freq_change = factor(freq_change, order=TRUE, labels = Compare))%>%\n",
    "    rename(ridehail_expect = tr_freq_exp_ridehail)%>%\n",
    "    rename(ridehail_freq = freq_change)\n",
    "\n",
    "# walk attitudes match frequency \n",
    "walk_attitudes <- two_wave %>%\n",
    "    transmute(resp_id, tr_freq_exp_walk, freq_change =w3_tr_freq_now_6 - tr_freq_now_walk) %>%\n",
    "    mutate(freq_change = as.numeric(freq_change))\n",
    "walk_attitudes <- na.omit(walk_attitudes)\n",
    "walk_attitudes$freq_change[walk_attitudes$freq_change < -3] <- -99\n",
    "walk_attitudes$freq_change[walk_attitudes$freq_change >= -3 & walk_attitudes$freq_change < 0] <- -2 \n",
    "walk_attitudes$freq_change[walk_attitudes$freq_change == 0] <- 0\n",
    "walk_attitudes$freq_change[walk_attitudes$freq_change > 0 & walk_attitudes$freq_change <= 3] <- 2\n",
    "walk_attitudes$freq_change[walk_attitudes$freq_change > 3] <- 99\n",
    "walk_attitudes %<>%\n",
    "    mutate(freq_change = factor(freq_change, order=TRUE, labels = Compare))%>%\n",
    "    rename(walk_expect = tr_freq_exp_walk)%>%\n",
    "    rename(walk_freq = freq_change)\n"
   ]
  },
  {
   "cell_type": "code",
   "execution_count": 29,
   "id": "97e8b5ba",
   "metadata": {},
   "outputs": [],
   "source": [
    "bikeatt <- bike_attitudes %>%\n",
    "    count(bike_expect, bike_freq) \n",
    "caratt <- car_attitudes %>%\n",
    "    count(car_expect, car_freq) \n",
    "transitatt <- transit_attitudes %>%\n",
    "    count(transit_expect, transit_freq) \n",
    "ridehailatt <- ridehail_attitudes %>%\n",
    "    count(ridehail_expect, ridehail_freq) \n",
    "walkatt <- walk_attitudes %>%\n",
    "    count(walk_expect, walk_freq) "
   ]
  },
  {
   "cell_type": "code",
   "execution_count": 32,
   "id": "a058f3d7",
   "metadata": {},
   "outputs": [],
   "source": [
    "write.csv(bikeatt, \"bike_att_change.csv\",row.names = FALSE, na = \"\")\n",
    "write.csv(caratt, \"car_att_change.csv\",row.names = FALSE, na = \"\")\n",
    "write.csv(transitatt, \"transit_att_change.csv\",row.names = FALSE, na = \"\")\n",
    "write.csv(ridehailatt, \"ridehail_att_change.csv\",row.names = FALSE, na = \"\")\n",
    "write.csv(walkatt, \"walk_att_change.csv\",row.names = FALSE, na = \"\")"
   ]
  },
  {
   "cell_type": "code",
   "execution_count": null,
   "id": "f5e71393",
   "metadata": {},
   "outputs": [],
   "source": []
  }
 ],
 "metadata": {
  "kernelspec": {
   "display_name": "R",
   "language": "R",
   "name": "ir"
  },
  "language_info": {
   "codemirror_mode": "r",
   "file_extension": ".r",
   "mimetype": "text/x-r-source",
   "name": "R",
   "pygments_lexer": "r",
   "version": "3.6.3"
  }
 },
 "nbformat": 4,
 "nbformat_minor": 5
}
